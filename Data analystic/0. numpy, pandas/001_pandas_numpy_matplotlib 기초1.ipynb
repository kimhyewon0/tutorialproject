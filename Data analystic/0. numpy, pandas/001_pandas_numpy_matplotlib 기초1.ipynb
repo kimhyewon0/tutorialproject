{
 "cells": [
  {
   "cell_type": "markdown",
   "metadata": {},
   "source": [
    "## numpy\n",
    "\n",
    "\n",
    "* 수치연산을 위해 많이 쓰임, C 기반(빠르고, 적은 메모리 사용).\n",
    "\n",
    "\n",
    "\n",
    "1. int(8bit, 16bit, 32bit, 64bit)\n",
    "  - 부호가 있음\n",
    "  - 비트수 만큼 크기를 가지는 정수형\n",
    "\n",
    "\n",
    "2. unit(8bit, 16bit, 64bit, 128bit)\n",
    " - 부호가 없음 \n",
    " - 비트수 만큼 크기를 가지는 정수형\n",
    "\n",
    "\n",
    "3. float(16bit, 32bit, 64bit, 128bit)\n",
    "  - 부호가 있음\n",
    "  - 비트수 만큼 크기를 가지는 실수형\n",
    "\n",
    "\n",
    "4. 복소수형\n",
    "  - complex64 : 두개의 32비트 부동 소수점으로 표시되는 복소수\n",
    "  - complex128 : 두개의 64비트 부동소수점으로 표시되는 복소수\n",
    "\n",
    "\n",
    "5. unicode\n",
    " - 고정 길이 문자열 unicode\n",
    "\n",
    "\n",
    "6. bool\n",
    " - True, False"
   ]
  },
  {
   "cell_type": "code",
   "execution_count": 2,
   "metadata": {},
   "outputs": [
    {
     "name": "stdout",
     "output_type": "stream",
     "text": [
      "[[1 2 3]\n",
      " [4 5 6]\n",
      " [7 8 9]]\n",
      "[[100 200 300]\n",
      " [400 500 600]\n",
      " [700 800 900]]\n",
      "[[ 2  4  6]\n",
      " [ 8 10 12]\n",
      " [14 16 18]]\n"
     ]
    }
   ],
   "source": [
    "#numpy\n",
    "import numpy as np\n",
    "\n",
    "data = [[1, 2, 3], [4, 5, 6], [7, 8, 9]]\n",
    "\n",
    "a = np.array(data) #그냥 2중 리스트는 어떻게 되는지도 설명이 필요(강의에서)\n",
    "print(a)\n",
    "print(a * 100)\n",
    "print(a + a)"
   ]
  },
  {
   "cell_type": "code",
   "execution_count": 37,
   "metadata": {},
   "outputs": [
    {
     "name": "stdout",
     "output_type": "stream",
     "text": [
      "1번출력 [0 1 2]\n",
      "2번출력 5\n",
      "3번출력 5\n",
      "4번출력 [ 8  9 10 11]\n",
      "5번출력 [[0 1 2]\n",
      " [3 4 5]]\n",
      "6번출력 [[  0   1   4]\n",
      " [  9  16  25]\n",
      " [ 36  49  64]\n",
      " [ 81 100 121]]\n",
      "7번출력 [[ 0  2  4]\n",
      " [ 6  8 10]\n",
      " [12 14 16]\n",
      " [18 20 22]]\n",
      "8번출력 [[0 0 0]\n",
      " [0 0 0]\n",
      " [0 0 0]\n",
      " [0 0 0]]\n",
      "9번출력 [[  0   1   4]\n",
      " [  9  16  25]\n",
      " [ 36  49  64]\n",
      " [ 81 100 121]]\n"
     ]
    }
   ],
   "source": [
    "#data = [[1, 2, 3], [4, 5, 6], [7, 8, 9]]\n",
    "print('1번출력', a[0])\n",
    "print('2번출력', a[1][2])\n",
    "print('3번출력', a[1, 2])\n",
    "print('4번출력', a[a > 7]) #문제 낼 때 사용\n",
    "print('5번출력', a[0:2])\n",
    "print('6번출력', a * a)#행렬이 다를 경우 연산 안됨\n",
    "print('7번출력', a + a)\n",
    "print('8번출력', a - a)\n",
    "print('9번출력', a * a)"
   ]
  },
  {
   "cell_type": "markdown",
   "metadata": {},
   "source": [
    "## 사분위수(특별히 따로 설명)\n",
    "* 사분위수(quartile)는 데이터를 가장 작은 수부터 가장 큰 수까지 크기가 커지는 순서대로 정렬하였을 때 1/4, 2/4, 3/4 위치에 있는 수를 말한다. 각각 1사분위수, 2사분위수, 3사분위수라고 한다. 1/4의 위치란 전체 데이터의 수가 만약 100개이면 25번째 순서, 즉 하위 25%를 말한다. 따라서 2사분위수는 중앙값과 같다.\n",
    "\n",
    "* 때로는 위치를 1/100 단위로 나눈 백분위수(percentile)을 사용하기도 한다. 1사분위수는 25% 백분위수와 같다."
   ]
  },
  {
   "cell_type": "code",
   "execution_count": 49,
   "metadata": {},
   "outputs": [
    {
     "name": "stdout",
     "output_type": "stream",
     "text": [
      "1번출력 5.0\n",
      "2번출력 9\n",
      "3번출력 5.0\n",
      "4번출력 2.581988897471611\n",
      "5번출력 6.666666666666667\n",
      "6번출력 45\n",
      "7번출력 [12 15 18]\n",
      "8번출력 [ 1  3  6 10 15 21 28 36 45]\n"
     ]
    }
   ],
   "source": [
    "# data = [[1, 2, 3], [4, 5, 6], [7, 8, 9]]\n",
    "# 사이트 참고 : https://datascienceschool.net/view-notebook/1ce4880f58504891b8ab8550fe894a51/\n",
    "# 데이터의 개수(count)\n",
    "# 평균(mean, average)\n",
    "# 분산(variance) : 샘플 분산(sample variance)은 데이터와 샘플 평균간의 거리의 제곱의 평균이다. 샘플 분산이 작으면 데이터가 모여있는 것이고 크면 흩어져 있는 것이다.\n",
    "# 표준 편차(standard deviation) : 샘플 표준편차(sample standard variance)는 샘플 분산의 양의 제곱근 값이다.  s 이라고 표시한다.\n",
    "# 최댓값(maximum)\n",
    "# 최솟값(minimum)\n",
    "# 중앙값(median) : 중앙값(median)은 데이터를 크기대로 정렬하였을 때 가장 가운데에 있는 수를 말한다. 만약 데이터의 수가 짝수이면 가장 가운데에 있는 두 수의 평균을 사용한다.\n",
    "# 사분위수(quartile)\n",
    "a = np.arange(1, 10).reshape(3, 3)\n",
    "# a = np.array(data)\n",
    "# data = [[1, 2, 3], [4, 5, 6], [7, 8, 9]] -> sum error\n",
    "print('1번출력', np.mean(a))\n",
    "print('2번출력', np.max(a))\n",
    "print('3번출력', np.median(a)) #중간값\n",
    "print('4번출력', np.std(a)) #표준편차\n",
    "print('5번출력', np.var(a)) #분산\n",
    "print('6번출력', np.sum(a))\n",
    "print('7번출력', sum(a))\n",
    "print('8번출력', np.cumsum(a)) #누적값을 출력할 때 유용합니다!"
   ]
  },
  {
   "cell_type": "code",
   "execution_count": 54,
   "metadata": {},
   "outputs": [
    {
     "name": "stdout",
     "output_type": "stream",
     "text": [
      "[[-5 -4 -3]\n",
      " [-2 -1  0]\n",
      " [ 1  2  3]]\n",
      "True\n",
      "False\n",
      "[[    -5     -4     -3]\n",
      " [    -2     -1 -10000]\n",
      " [-10000 -10000 -10000]]\n"
     ]
    }
   ],
   "source": [
    "a = np.arange(-5, 4).reshape(3, 3)\n",
    "print(a)\n",
    "print(np.any(a < 0)) #하나라도 음수가 있으면 True\n",
    "print(np.all(a < 0)) #하나라도 음수가 있으면 False\n",
    "print(np.where(a < 0, a, -10000)) #음수인 경우는 그대로, 양수는 -10000"
   ]
  },
  {
   "cell_type": "code",
   "execution_count": 6,
   "metadata": {},
   "outputs": [
    {
     "name": "stdout",
     "output_type": "stream",
     "text": [
      "[0 1 2 3 4 5 6 7 8 9]\n",
      "[2 4 6 8]\n",
      "[10.  10.5 11.  11.5 12.  12.5 13.  13.5 14.  14.5]\n",
      "[10  9  8  7  6  5  4  3]\n",
      "[10.   8.5  7.   5.5  4.   2.5]\n"
     ]
    }
   ],
   "source": [
    "print(np.arange(10))\n",
    "print(np.arange(2, 10, 2))\n",
    "print(np.arange(10, 15, .5))\n",
    "print(np.arange(10, 2, -1))\n",
    "print(np.arange(10, 2, -1.5))"
   ]
  },
  {
   "cell_type": "code",
   "execution_count": 3,
   "metadata": {
    "scrolled": true
   },
   "outputs": [
    {
     "name": "stdout",
     "output_type": "stream",
     "text": [
      "1 [1. 1. 1. 1. 1. 1. 1. 1. 1. 1.]\n",
      "2 [[1. 1. 1. 1.]\n",
      " [1. 1. 1. 1.]\n",
      " [1. 1. 1. 1.]]\n",
      "3 [[[1. 1. 1. 1. 1.]\n",
      "  [1. 1. 1. 1. 1.]\n",
      "  [1. 1. 1. 1. 1.]\n",
      "  [1. 1. 1. 1. 1.]]\n",
      "\n",
      " [[1. 1. 1. 1. 1.]\n",
      "  [1. 1. 1. 1. 1.]\n",
      "  [1. 1. 1. 1. 1.]\n",
      "  [1. 1. 1. 1. 1.]]\n",
      "\n",
      " [[1. 1. 1. 1. 1.]\n",
      "  [1. 1. 1. 1. 1.]\n",
      "  [1. 1. 1. 1. 1.]\n",
      "  [1. 1. 1. 1. 1.]]]\n",
      "4 [[0. 0. 0. 0.]\n",
      " [0. 0. 0. 0.]\n",
      " [0. 0. 0. 0.]]\n",
      "3\n",
      "(3, 4, 5)\n"
     ]
    }
   ],
   "source": [
    "b = np.ones(10)\n",
    "c = np.ones([3, 4])\n",
    "d = np.ones([3, 4, 5])\n",
    "e = np.zeros([3, 4])\n",
    "print(1, b)\n",
    "print(2, c)\n",
    "print(3, d)\n",
    "print(4, e)\n",
    "\n",
    "print(d.ndim) # 몇 차원 배열인지\n",
    "print(d.shape) # 몇 행, 몇 열인지"
   ]
  },
  {
   "cell_type": "code",
   "execution_count": 4,
   "metadata": {},
   "outputs": [
    {
     "name": "stdout",
     "output_type": "stream",
     "text": [
      "[[1. 0. 0.]\n",
      " [0. 1. 0.]\n",
      " [0. 0. 1.]]\n",
      "[ 2.  4.  6.  8. 10.]\n",
      "[100. 200. 300.]\n",
      "[[0. 0. 0. 0.]\n",
      " [0. 0. 0. 0.]\n",
      " [0. 0. 0. 0.]]\n",
      "[[10 10 10 10]\n",
      " [10 10 10 10]\n",
      " [10 10 10 10]]\n"
     ]
    }
   ],
   "source": [
    "print(np.eye(3))\n",
    "print(np.linspace(2, 10, 5)) #리니어 스페이스, 3개의 숫자를 만들어라!\n",
    "print(np.linspace(100, 300, 3)) #똑같은 공간으로\n",
    "print(np.empty((3, 4)))\n",
    "print(np.full((3, 4), 10))"
   ]
  },
  {
   "cell_type": "code",
   "execution_count": 22,
   "metadata": {},
   "outputs": [
    {
     "name": "stdout",
     "output_type": "stream",
     "text": [
      "[0 1 2 3 4 5 6 7 8 9]\n",
      "(10,)\n",
      "[[0 1]\n",
      " [2 3]\n",
      " [4 5]\n",
      " [6 7]\n",
      " [8 9]]\n"
     ]
    }
   ],
   "source": [
    "a = np.arange(10)\n",
    "print(a)\n",
    "print(a.shape)\n",
    "print(a.reshape(5, 2))"
   ]
  },
  {
   "cell_type": "code",
   "execution_count": 28,
   "metadata": {},
   "outputs": [
    {
     "name": "stdout",
     "output_type": "stream",
     "text": [
      "[[ 0  1  2]\n",
      " [ 3  4  5]\n",
      " [ 6  7  8]\n",
      " [ 9 10 11]]\n",
      "[1 2]\n",
      "[[ 1  2]\n",
      " [ 4  5]\n",
      " [ 7  8]\n",
      " [10 11]]\n",
      "[[1 2]\n",
      " [4 5]]\n",
      "[[1 2]]\n"
     ]
    }
   ],
   "source": [
    "a = np.arange(12).reshape(4, 3)\n",
    "print(1, a)\n",
    "print(2, a[0,1:3])\n",
    "print(3, a[:,1:3])\n",
    "print(4, a[:2,1:3])\n",
    "#print(a[:1,1:3]) 2번하고 비교했을 때 차원이 준 것이 아닙니다!"
   ]
  },
  {
   "cell_type": "code",
   "execution_count": 35,
   "metadata": {},
   "outputs": [
    {
     "name": "stdout",
     "output_type": "stream",
     "text": [
      "[[ 0  1  2]\n",
      " [ 3  4  5]\n",
      " [ 6  7  8]\n",
      " [ 9 10 11]]\n",
      "[[ 0  1]\n",
      " [ 2  3]\n",
      " [ 4  5]\n",
      " [ 6  7]\n",
      " [ 8  9]\n",
      " [10 11]]\n",
      "[ 0  1  2  3  4  5  6  7  8  9 10 11]\n",
      "[ 0  1  2  3  4  5  6  7  8  9 10 11]\n",
      "[ 0  1  2  3  4  5  6  7  8  9 10 11]\n",
      "[ 0  2  4  6  8 10  1  3  5  7  9 11]\n"
     ]
    }
   ],
   "source": [
    "#이번에는 차원을 줄이는 것을 해보도록 하겠습니다.(rabel, flatten(copy))\n",
    "a = np.arange(12).reshape(4, 3)\n",
    "b = np.arange(12).reshape(6, 2)\n",
    "# b = np.arange(12).reshape(6, -1)\n",
    "print(a)\n",
    "print(b)\n",
    "print(a.ravel()) #1차원으로 만들어줌\n",
    "print(b.ravel()) #1차원으로 만들어줌\n",
    "print(a.ravel(order='C')) #행기준\n",
    "print(b.ravel(order='F')) #열기준"
   ]
  },
  {
   "cell_type": "markdown",
   "metadata": {},
   "source": [
    "pandas : numpy로 만들어진 자료구조\n",
    "\n",
    "실행이 안된다면 아래와 같이 실행하세요.\n",
    "* !pip3 install pandas(Python 3)\n",
    "* !pip install pandas"
   ]
  },
  {
   "cell_type": "code",
   "execution_count": 17,
   "metadata": {},
   "outputs": [
    {
     "name": "stdout",
     "output_type": "stream",
     "text": [
      "0    500\n",
      "1    400\n",
      "2    300\n",
      "3    200\n",
      "4    100\n",
      "dtype: int64\n"
     ]
    }
   ],
   "source": [
    "from pandas import Series, DataFrame\n",
    "import pandas as pd\n",
    "import numpy as np\n",
    "\n",
    "data = Series([500, 400, 300, 200, 100])\n",
    "print(data)"
   ]
  },
  {
   "cell_type": "code",
   "execution_count": 16,
   "metadata": {},
   "outputs": [
    {
     "name": "stdout",
     "output_type": "stream",
     "text": [
      "[ 5  4  3 -1  9]\n",
      "RangeIndex(start=0, stop=5, step=1)\n"
     ]
    }
   ],
   "source": [
    "print(data.values) #전체 Value값을 가져옴\n",
    "print(data.index)  #전체 index값을 range처럼 가져옴"
   ]
  },
  {
   "cell_type": "code",
   "execution_count": 19,
   "metadata": {},
   "outputs": [
    {
     "name": "stdout",
     "output_type": "stream",
     "text": [
      "a    500\n",
      "b    400\n",
      "c    300\n",
      "d    200\n",
      "e    100\n",
      "dtype: int64\n",
      "300\n",
      "300\n"
     ]
    }
   ],
   "source": [
    "data = [500, 400, 300, 200, 100]\n",
    "data2 = Series(data, index=['a','b','c','d','e'])\n",
    "\n",
    "print(data2)\n",
    "print(data2['c'])\n",
    "print(data2.c)"
   ]
  },
  {
   "cell_type": "code",
   "execution_count": 23,
   "metadata": {},
   "outputs": [
    {
     "name": "stdout",
     "output_type": "stream",
     "text": [
      "a    22.36068\n",
      "b    20.00000\n",
      "e    10.00000\n",
      "dtype: float64\n",
      "a    500\n",
      "b    400\n",
      "c    300\n",
      "dtype: int64\n",
      "a    50000\n",
      "b    40000\n",
      "c    30000\n",
      "d    20000\n",
      "e    10000\n",
      "dtype: int64\n",
      "a    1500\n",
      "b    1400\n",
      "c    1300\n",
      "d    1200\n",
      "e    1100\n",
      "dtype: int64\n",
      "500\n",
      "400\n",
      "300\n",
      "200\n",
      "100\n"
     ]
    }
   ],
   "source": [
    "print(np.sqrt(data2[['a', 'b', 'e']]))#제곱근 연산\n",
    "print(data2[data2 > 200])\n",
    "print(data2 * 100)\n",
    "print(data2 + 1000)\n",
    "\n",
    "for i in data2:\n",
    "    print(i)"
   ]
  },
  {
   "cell_type": "code",
   "execution_count": 28,
   "metadata": {},
   "outputs": [
    {
     "name": "stdout",
     "output_type": "stream",
     "text": [
      "0    [1, 2, 3]\n",
      "1    [4, 5, 6]\n",
      "2    [7, 8, 9]\n",
      "dtype: object\n",
      "[list([1, 2, 3]) list([4, 5, 6]) list([7, 8, 9])]\n",
      "RangeIndex(start=0, stop=3, step=1)\n"
     ]
    }
   ],
   "source": [
    "data = Series([[1, 2, 3], [4, 5, 6], [7, 8, 9]])\n",
    "print(data)\n",
    "print(data.values) #전체 Value값을 가져옴\n",
    "print(data.index)  #전체 index값을 range처럼 가져옴\n",
    "# print('-- Error --')\n",
    "# print(data[data > 200])\n",
    "# print(data * 100)\n",
    "# print(data + 1000)"
   ]
  },
  {
   "cell_type": "code",
   "execution_count": 33,
   "metadata": {
    "scrolled": true
   },
   "outputs": [
    {
     "name": "stdout",
     "output_type": "stream",
     "text": [
      "0    [1, 2, 3, 1, 2, 3, 1, 2, 3]\n",
      "1    [4, 5, 6, 4, 5, 6, 4, 5, 6]\n",
      "2    [7, 8, 9, 7, 8, 9, 7, 8, 9]\n",
      "dtype: object\n",
      "0    [1, 2, 3, 1, 2, 3]\n",
      "1    [4, 5, 6, 4, 5, 6]\n",
      "2    [7, 8, 9, 7, 8, 9]\n",
      "dtype: object\n"
     ]
    }
   ],
   "source": [
    "print(data * 3)\n",
    "print(data + data)"
   ]
  },
  {
   "cell_type": "code",
   "execution_count": 61,
   "metadata": {},
   "outputs": [
    {
     "data": {
      "text/plain": [
       "[<matplotlib.lines.Line2D at 0x2047de91ac8>]"
      ]
     },
     "execution_count": 61,
     "metadata": {},
     "output_type": "execute_result"
    },
    {
     "data": {
      "image/png": "[encoded data removed]",
      "text/plain": [
       "<Figure size 432x288 with 1 Axes>"
      ]
     },
     "metadata": {
      "needs_background": "light"
     },
     "output_type": "display_data"
    }
   ],
   "source": [
    "%matplotlib inline\n",
    "#주피터 노트북으로 실행하세요.\n",
    "import matplotlib.pyplot as plt\n",
    "\n",
    "plt.plot([10, 20, 50, 70, 100, 60])\n",
    "#Shift + Enter\n",
    "#이럴경우 y축만 생김"
   ]
  },
  {
   "cell_type": "code",
   "execution_count": 41,
   "metadata": {},
   "outputs": [
    {
     "data": {
      "text/plain": [
       "[<matplotlib.lines.Line2D at 0x2047dcf8710>]"
      ]
     },
     "execution_count": 41,
     "metadata": {},
     "output_type": "execute_result"
    },
    {
     "data": {
      "image/png": "[encoded data removed]",
      "text/plain": [
       "<Figure size 432x288 with 1 Axes>"
      ]
     },
     "metadata": {
      "needs_background": "light"
     },
     "output_type": "display_data"
    }
   ],
   "source": [
    "plt.plot([5, 10, 15, 20, 25, 30], [10, 20, 50, 70, 100, 60])"
   ]
  },
  {
   "cell_type": "code",
   "execution_count": 43,
   "metadata": {},
   "outputs": [
    {
     "data": {
      "text/plain": [
       "[<matplotlib.lines.Line2D at 0x2047dde6978>]"
      ]
     },
     "execution_count": 43,
     "metadata": {},
     "output_type": "execute_result"
    },
    {
     "data": {
      "image/png": "[encoded data removed]",
      "text/plain": [
       "<Figure size 432x288 with 1 Axes>"
      ]
     },
     "metadata": {
      "needs_background": "light"
     },
     "output_type": "display_data"
    }
   ],
   "source": [
    "plt.plot([5, 10, 15, 20, 25, 30], [10, 20, 50, 70, 100, 60], 'ro-')"
   ]
  },
  {
   "cell_type": "code",
   "execution_count": 47,
   "metadata": {},
   "outputs": [
    {
     "data": {
      "text/plain": [
       "[0, 35, 0, 110]"
      ]
     },
     "execution_count": 47,
     "metadata": {},
     "output_type": "execute_result"
    },
    {
     "data": {
      "image/png": "[encoded data removed]",
      "text/plain": [
       "<Figure size 432x288 with 1 Axes>"
      ]
     },
     "metadata": {
      "needs_background": "light"
     },
     "output_type": "display_data"
    }
   ],
   "source": [
    "plt.plot([5, 10, 15, 20, 25, 30], [10, 20, 50, 70, 100, 60], 'ro-')\n",
    "plt.axis([0, 35, 0, 110]) #x축 시작과 끝, y축 시작과 끝"
   ]
  },
  {
   "cell_type": "code",
   "execution_count": 49,
   "metadata": {},
   "outputs": [
    {
     "data": {
      "text/plain": [
       "Text(0, 0.5, 'Y-label')"
      ]
     },
     "execution_count": 49,
     "metadata": {},
     "output_type": "execute_result"
    },
    {
     "data": {
      "image/png": "[encoded data removed]",
      "text/plain": [
       "<Figure size 432x288 with 1 Axes>"
      ]
     },
     "metadata": {
      "needs_background": "light"
     },
     "output_type": "display_data"
    }
   ],
   "source": [
    "plt.plot([5, 10, 15, 20, 25, 30], [10, 20, 50, 70, 100, 60], 'ro-')\n",
    "plt.axis([0, 35, 0, 110]) #x축 시작과 끝, y축 시작과 끝\n",
    "plt.xlabel('X-label')\n",
    "plt.ylabel('Y-label')"
   ]
  },
  {
   "cell_type": "markdown",
   "metadata": {},
   "source": [
    "<pre>\n",
    "#'색+형태'\n",
    "#r, g, b, y\n",
    "\n",
    "#- 1개면 실선, 2개면 점선\n",
    "\n",
    "#^ 세모\n",
    "#s 네모\n",
    "#o 동그라미\n",
    "\n",
    "#'r--' 빨간 점선\n",
    "#'b-' 파란 실선\n",
    "#'g^' 초록 세모\n",
    "#'g^-' 초록 세모 + 실선으로 연결\n",
    "#'bo' 파란 동그라미\n",
    "#'ys--' 노란 네모 + 점선으로 연결\n",
    "\n",
    "#그래프 타이틀 지정\n",
    "#plt.title(“그래프 제목!”)\n",
    "\n",
    "\n",
    "마커 의미\n",
    "o\tcircle(원)\n",
    "v\ttriangle_down(역 삼각형)\n",
    "^\ttriangle_up(삼각형)\n",
    "s\tsquare(네모)\n",
    "+\tplus(플러스)\n",
    ".\tpoint(점)\n",
    "b\tblue(파란색)\n",
    "g\tgreen(녹색)\n",
    "r\tred(빨간색)\n",
    "c\tcyan(청록색)\n",
    "m\tmagenta(마젠타색)\n",
    "y\tyellow(노란색)\n",
    "k\tblack(검은색)\n",
    "w\twhite(흰색)\n",
    "</pre>"
   ]
  },
  {
   "cell_type": "code",
   "execution_count": 60,
   "metadata": {},
   "outputs": [
    {
     "name": "stdout",
     "output_type": "stream",
     "text": [
      "[0.  0.2 0.4 0.6 0.8 1.  1.2 1.4 1.6 1.8 2.  2.2 2.4 2.6 2.8 3.  3.2 3.4\n",
      " 3.6 3.8 4.  4.2 4.4 4.6 4.8]\n"
     ]
    },
    {
     "data": {
      "image/png": "[encoded data removed]",
      "text/plain": [
       "<Figure size 432x288 with 1 Axes>"
      ]
     },
     "metadata": {
      "needs_background": "light"
     },
     "output_type": "display_data"
    }
   ],
   "source": [
    "%matplotlib inline\n",
    "import matplotlib.pyplot as plt\n",
    "import numpy as np\n",
    "\n",
    "#y=x, y=x^2, y=x^3그래프 그리기\n",
    "#import numpy as np\n",
    "t = np.arange(0., 5., 0.2)\n",
    "print(t)\n",
    "plt.plot(t, t, 'r--', t, t**2, 'ys--', t, t**3, 'g^-')\n",
    "#x축의 값, y축의 값, 선의 종류, 축의 값, y축의 값, 선의 종류, 축의 값, y축의 값, 선의 종류\n",
    "plt.title('jun!!')\n",
    "plt.show()"
   ]
  },
  {
   "cell_type": "code",
   "execution_count": 59,
   "metadata": {},
   "outputs": [
    {
     "data": {
      "image/png": "[encoded data removed]",
      "text/plain": [
       "<Figure size 432x288 with 1 Axes>"
      ]
     },
     "metadata": {
      "needs_background": "light"
     },
     "output_type": "display_data"
    }
   ],
   "source": [
    "import matplotlib.pyplot as plt\n",
    "\n",
    "#삼성 전기 주식\n",
    "plt.title('Samsung Stock')\n",
    "plt.plot([1, 2, 3, 4], [88900, 91000, 100000, 101000], 'r^-')\n",
    "plt.grid()\n",
    "plt.xlabel('week')\n",
    "plt.ylabel('price')\n",
    "\n",
    "#카카오 주식\n",
    "plt.title('kakao Stock')\n",
    "plt.plot([1, 2, 3, 4], [121000, 131000, 141000, 101000], 'bo-')\n",
    "plt.grid()\n",
    "plt.xlabel('week')\n",
    "plt.ylabel('price')\n",
    "\n",
    "plt.show()"
   ]
  },
  {
   "cell_type": "code",
   "execution_count": 58,
   "metadata": {
    "scrolled": true
   },
   "outputs": [
    {
     "data": {
      "image/png": "[encoded data removed]",
      "text/plain": [
       "<Figure size 432x288 with 1 Axes>"
      ]
     },
     "metadata": {
      "needs_background": "light"
     },
     "output_type": "display_data"
    }
   ],
   "source": [
    "#삼성전기 주식과 카카오 주식\n",
    "plt.title('Stock')\n",
    "plt.plot([1, 2, 3, 4], [88900, 91000, 100000, 101000], 'r^-', label='samsumg')\n",
    "plt.plot([1, 2, 3, 4], [121000, 131000, 141000, 101000], 'bo-', label='kakao')\n",
    "plt.grid()\n",
    "plt.xlabel('week')\n",
    "plt.ylabel('price')\n",
    "plt.axis([0.5, 4.5, 70000, 150000])\n",
    "\n",
    "plt.show()"
   ]
  },
  {
   "cell_type": "markdown",
   "metadata": {},
   "source": [
    "## Basic Attributes\n",
    "\n",
    "alpha : 투명도   \n",
    "kind : 그래프 종류 'line', 'bar', 'barh', 'kde'  \n",
    "logy : Y축에 대해 Log scaling  \n",
    "use_index : 객체의 색인을 눈금 이름으로 사용할지 여부  \n",
    "rot : 눈금 이름 돌리기 (rotating) 0 ~ 360  \n",
    "xticks, yticks : x, y축으로 사용할 값  \n",
    "xlim, ylim : X, Y축의 한계  \n",
    "grid : 축의 그리드를 표현할지 여부\n",
    "\n",
    "subplots : 각 column에 독립된 subplot 그리기  \n",
    "sharex, sharey : subplots=True 이면 같은 X,Y축을 공유하고 눈금과 한계를 연결  \n",
    "figsize : 생성될 그래프의 크기를 tuple로 지정  \n",
    "title : 그래프의 제목 지정  \n",
    "legend : subplot의 범례 지정  \n",
    "sort_columns : column을 알파벳 순서로 그린다.  "
   ]
  },
  {
   "cell_type": "code",
   "execution_count": 6,
   "metadata": {},
   "outputs": [
    {
     "data": {
      "image/png": "[encoded data removed]",
      "text/plain": [
       "<Figure size 432x288 with 1 Axes>"
      ]
     },
     "metadata": {
      "needs_background": "light"
     },
     "output_type": "display_data"
    }
   ],
   "source": [
    "%matplotlib inline\n",
    "\n",
    "import numpy as np\n",
    "import matplotlib.pyplot as plt\n",
    "\n",
    "plt.plot(np.random.randn(50).cumsum(), 'k--')\n",
    "\n",
    "plt.show()"
   ]
  },
  {
   "cell_type": "code",
   "execution_count": 9,
   "metadata": {},
   "outputs": [
    {
     "data": {
      "image/png": "[encoded data removed]",
      "text/plain": [
       "<Figure size 432x288 with 4 Axes>"
      ]
     },
     "metadata": {
      "needs_background": "light"
     },
     "output_type": "display_data"
    }
   ],
   "source": [
    "plt.subplot(2, 2, 1)\n",
    "plt.plot(np.random.randn(50).cumsum(), 'k--')\n",
    "plt.subplot(2, 2, 2)\n",
    "plt.hist(np.random.randn(100), bins=20, color='k', alpha=0.3)\n",
    "plt.subplot(2, 2, 3)\n",
    "plt.scatter(np.arange(30), np.arange(30) + 3 * np.random.randn(30))\n",
    "plt.subplot(2, 2, 4)\n",
    "plt.scatter(np.arange(30), np.arange(30) + 3 * np.random.randn(30))\n",
    "plt.show()"
   ]
  },
  {
   "cell_type": "code",
   "execution_count": 16,
   "metadata": {},
   "outputs": [
    {
     "data": {
      "image/png": "[encoded data removed]",
      "text/plain": [
       "<Figure size 720x720 with 1 Axes>"
      ]
     },
     "metadata": {
      "needs_background": "light"
     },
     "output_type": "display_data"
    }
   ],
   "source": [
    "#그래프 사이즈 조절 및 저장\n",
    "plt.figure(figsize=(10, 10))\n",
    "x = np.arange(30)\n",
    "y = np.arange(30) + 3 * np.random.randn(30)\n",
    "plt.plot(x, y, 'k.')\n",
    "plt.savefig(\"fig_saved.png\")\n",
    "plt.show()"
   ]
  },
  {
   "cell_type": "code",
   "execution_count": 22,
   "metadata": {},
   "outputs": [
    {
     "data": {
      "image/png": "[encoded data removed]",
      "text/plain": [
       "<Figure size 432x288 with 1 Axes>"
      ]
     },
     "metadata": {
      "needs_background": "light"
     },
     "output_type": "display_data"
    }
   ],
   "source": [
    "%matplotlib inline\n",
    "\n",
    "import random as r\n",
    "import matplotlib.pyplot as plt\n",
    "\n",
    "주사위=[r.randint(1, 6) for i in range(5)]\n",
    "plt.hist(주사위, bins=6)\n",
    "#bins는 가로축 구간의 개수를 설정하는 속성, 1000으로 늘려보기\n",
    "\n",
    "plt.show()"
   ]
  },
  {
   "cell_type": "code",
   "execution_count": 29,
   "metadata": {},
   "outputs": [
    {
     "data": {
      "image/png": "[encoded data removed]",
      "text/plain": [
       "<Figure size 432x288 with 1 Axes>"
      ]
     },
     "metadata": {
      "needs_background": "light"
     },
     "output_type": "display_data"
    }
   ],
   "source": [
    "%matplotlib inline\n",
    "\n",
    "import random as r\n",
    "import matplotlib.pyplot as plt\n",
    "\n",
    "plt.bar(range(6), range(2, 13, 2))#h를 붙이면 barh로 옆으로 기울어짐\n",
    "\n",
    "plt.show()"
   ]
  },
  {
   "cell_type": "code",
   "execution_count": 31,
   "metadata": {},
   "outputs": [
    {
     "data": {
      "image/png": "[encoded data removed]",
      "text/plain": [
       "<Figure size 432x288 with 1 Axes>"
      ]
     },
     "metadata": {
      "needs_background": "light"
     },
     "output_type": "display_data"
    }
   ],
   "source": [
    "%matplotlib inline\n",
    "\n",
    "import random as r\n",
    "import matplotlib.pyplot as plt\n",
    "\n",
    "plt.barh(range(6), [2, 4, 6, 8, 10, 12])#h를 붙이면 barh로 옆으로 기울어짐\n",
    "plt.barh(range(6), [-2, -4, -6, -8, -10, -12])#h를 붙이면 barh로 옆으로 기울어짐\n",
    "\n",
    "plt.show()"
   ]
  },
  {
   "cell_type": "code",
   "execution_count": 38,
   "metadata": {},
   "outputs": [
    {
     "data": {
      "image/png": "[encoded data removed]",
      "text/plain": [
       "<Figure size 432x288 with 1 Axes>"
      ]
     },
     "metadata": {},
     "output_type": "display_data"
    }
   ],
   "source": [
    "import random as r\n",
    "\n",
    "size = [r.randint(1,100) for i in range(10)]#1\n",
    "label= [i for i in range(10)]#2\n",
    "plt.axis('equal')\n",
    "plt.pie(size, labels=label, autopct='%.1f%%')\n",
    "plt.legend()\n",
    "plt.show()"
   ]
  }
 ],
 "metadata": {
  "kernelspec": {
   "display_name": "Python 3",
   "language": "python",
   "name": "python3"
  },
  "language_info": {
   "codemirror_mode": {
    "name": "ipython",
    "version": 3
   },
   "file_extension": ".py",
   "mimetype": "text/x-python",
   "name": "python",
   "nbconvert_exporter": "python",
   "pygments_lexer": "ipython3",
   "version": "3.8.0"
  }
 },
 "nbformat": 4,
 "nbformat_minor": 2
}
