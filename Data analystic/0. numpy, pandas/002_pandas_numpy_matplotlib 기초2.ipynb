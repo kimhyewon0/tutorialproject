{
 "cells": [
  {
   "cell_type": "markdown",
   "metadata": {},
   "source": [
    "## 패캠 강의 그대로 요약한 장표입니다.\n",
    "\n",
    "### axis 이해하기\n",
    "\n",
    "* 몇몇 함수에는 axis keyword 파라미터가 존재\n",
    "* axis값이 없는 경우에는 전체 데이터에 대해 적용\n",
    "* axis값이 있는 경우에는, 해당 axis를 따라서 연산 적용"
   ]
  },
  {
   "cell_type": "code",
   "execution_count": 4,
   "metadata": {},
   "outputs": [
    {
     "name": "stdout",
     "output_type": "stream",
     "text": [
      "[0, 1, 2, 3, 4, 5, 6, 7, 8, 9]\n",
      "45\n",
      "[[0, 1, 2], [0, 1, 2], [0, 1, 2], [0, 1, 2], [0, 1, 2]]\n",
      "15\n",
      "105\n",
      "105\n",
      "[[ 0  1  2  3  4]\n",
      " [ 5  6  7  8  9]\n",
      " [10 11 12 13 14]]\n",
      "105\n",
      "[15 18 21 24 27]\n",
      "[10 35 60]\n"
     ]
    }
   ],
   "source": [
    "#numpy\n",
    "import numpy as np\n",
    "\n",
    "x = [i for i in range(10)]\n",
    "print(x)\n",
    "print(sum(x))\n",
    "\n",
    "x = [[j for j in range(3)] for i in range(5)]\n",
    "print(x)\n",
    "print(np.sum(x))\n",
    "# np.sum(x)를 쓰는 이유 : sum은 list 이거나 int 형일때만 연산가능하기 때문에 2차원배열은 에러가 난다.\n",
    "\n",
    "x = np.arange(15)\n",
    "print(np.sum(x))\n",
    "print(np.sum(x, axis=0))\n",
    "\n",
    "x = np.arange(15).reshape(3, 5)\n",
    "print(x)\n",
    "print(np.sum(x))\n",
    "#행이 증가하는 방향이 0번\n",
    "#열이 증가하는 방향이 1번\n",
    "print(np.sum(x, axis=0)) #reshape에서 앞 3이 0\n",
    "print(np.sum(x, axis=1)) #reshape에서 뒤 5이 1"
   ]
  },
  {
   "cell_type": "code",
   "execution_count": 10,
   "metadata": {
    "scrolled": true
   },
   "outputs": [
    {
     "name": "stdout",
     "output_type": "stream",
     "text": [
      "[[[ 0  1  2  3  4]\n",
      "  [ 5  6  7  8  9]\n",
      "  [10 11 12 13 14]\n",
      "  [15 16 17 18 19]]\n",
      "\n",
      " [[20 21 22 23 24]\n",
      "  [25 26 27 28 29]\n",
      "  [30 31 32 33 34]\n",
      "  [35 36 37 38 39]]\n",
      "\n",
      " [[40 41 42 43 44]\n",
      "  [45 46 47 48 49]\n",
      "  [50 51 52 53 54]\n",
      "  [55 56 57 58 59]]]\n"
     ]
    },
    {
     "data": {
      "text/plain": [
       "array([[ 60,  63,  66,  69,  72],\n",
       "       [ 75,  78,  81,  84,  87],\n",
       "       [ 90,  93,  96,  99, 102],\n",
       "       [105, 108, 111, 114, 117]])"
      ]
     },
     "execution_count": 10,
     "metadata": {},
     "output_type": "execute_result"
    }
   ],
   "source": [
    "x = np.arange(60).reshape(3, 4, 5)\n",
    "print(x)\n",
    "\n",
    "np.sum(x, axis=0)# (3, 4, 3) -> 4, 3만 남음"
   ]
  },
  {
   "cell_type": "code",
   "execution_count": null,
   "metadata": {},
   "outputs": [],
   "source": [
    "x = np.arange(36).reshape(3, 4, 3)\n",
    "print(x)\n",
    "\n",
    "np.sum(x, axis=0)# (3, 4, 3) -> 4, 3만 남음"
   ]
  },
  {
   "cell_type": "code",
   "execution_count": 11,
   "metadata": {
    "scrolled": true
   },
   "outputs": [
    {
     "name": "stdout",
     "output_type": "stream",
     "text": [
      "[[[ 0  1  2]\n",
      "  [ 3  4  5]\n",
      "  [ 6  7  8]\n",
      "  [ 9 10 11]]\n",
      "\n",
      " [[12 13 14]\n",
      "  [15 16 17]\n",
      "  [18 19 20]\n",
      "  [21 22 23]]\n",
      "\n",
      " [[24 25 26]\n",
      "  [27 28 29]\n",
      "  [30 31 32]\n",
      "  [33 34 35]]]\n"
     ]
    },
    {
     "data": {
      "text/plain": [
       "array([[ 18,  22,  26],\n",
       "       [ 66,  70,  74],\n",
       "       [114, 118, 122]])"
      ]
     },
     "execution_count": 11,
     "metadata": {},
     "output_type": "execute_result"
    }
   ],
   "source": [
    "x = np.arange(36).reshape(3, 4, 3)\n",
    "print(x)\n",
    "\n",
    "np.sum(x, axis=1)"
   ]
  },
  {
   "cell_type": "code",
   "execution_count": 13,
   "metadata": {
    "scrolled": true
   },
   "outputs": [
    {
     "name": "stdout",
     "output_type": "stream",
     "text": [
      "[[[ 0  1  2]\n",
      "  [ 3  4  5]\n",
      "  [ 6  7  8]\n",
      "  [ 9 10 11]]\n",
      "\n",
      " [[12 13 14]\n",
      "  [15 16 17]\n",
      "  [18 19 20]\n",
      "  [21 22 23]]\n",
      "\n",
      " [[24 25 26]\n",
      "  [27 28 29]\n",
      "  [30 31 32]\n",
      "  [33 34 35]]]\n"
     ]
    },
    {
     "data": {
      "text/plain": [
       "array([[  3,  12,  21,  30],\n",
       "       [ 39,  48,  57,  66],\n",
       "       [ 75,  84,  93, 102]])"
      ]
     },
     "execution_count": 13,
     "metadata": {},
     "output_type": "execute_result"
    }
   ],
   "source": [
    "x = np.arange(36).reshape(3, 4, 3)\n",
    "print(x)\n",
    "\n",
    "np.sum(x, axis=2)\n",
    "#axis가 있는 모든 곳은 이와 같이 동작"
   ]
  },
  {
   "cell_type": "code",
   "execution_count": 14,
   "metadata": {
    "scrolled": true
   },
   "outputs": [
    {
     "name": "stdout",
     "output_type": "stream",
     "text": [
      "[[[ 0  1  2]\n",
      "  [ 3  4  5]\n",
      "  [ 6  7  8]\n",
      "  [ 9 10 11]]\n",
      "\n",
      " [[12 13 14]\n",
      "  [15 16 17]\n",
      "  [18 19 20]\n",
      "  [21 22 23]]\n",
      "\n",
      " [[24 25 26]\n",
      "  [27 28 29]\n",
      "  [30 31 32]\n",
      "  [33 34 35]]]\n"
     ]
    },
    {
     "data": {
      "text/plain": [
       "array([[  3,  12,  21,  30],\n",
       "       [ 39,  48,  57,  66],\n",
       "       [ 75,  84,  93, 102]])"
      ]
     },
     "execution_count": 14,
     "metadata": {},
     "output_type": "execute_result"
    }
   ],
   "source": [
    "x = np.arange(36).reshape(3, 4, 3)\n",
    "print(x)\n",
    "\n",
    "np.sum(x, axis=-1)\n",
    "#axis가 있는 모든 곳은 이와 같이 동작"
   ]
  },
  {
   "cell_type": "code",
   "execution_count": 11,
   "metadata": {},
   "outputs": [
    {
     "name": "stdout",
     "output_type": "stream",
     "text": [
      "[[[ 0  1  2  3]\n",
      "  [ 4  5  6  7]\n",
      "  [ 8  9 10 11]]\n",
      "\n",
      " [[12 13 14 15]\n",
      "  [16 17 18 19]\n",
      "  [20 21 22 23]]]\n"
     ]
    },
    {
     "data": {
      "text/plain": [
       "array([60, 66, 72, 78])"
      ]
     },
     "execution_count": 11,
     "metadata": {},
     "output_type": "execute_result"
    }
   ],
   "source": [
    "#0차원 스칼라\n",
    "#1차원 백터\n",
    "#2차원 행렬\n",
    "#3차원 텐서?\n",
    "\n",
    "x = np.arange(24).reshape(2, 3, 4)\n",
    "print(x)\n",
    "\n",
    "np.sum(x, axis=(0, 1))\n",
    "#axis가 있는 모든 곳은 이와 같이 동작"
   ]
  },
  {
   "cell_type": "code",
   "execution_count": 16,
   "metadata": {},
   "outputs": [
    {
     "name": "stdout",
     "output_type": "stream",
     "text": [
      "[[[ 0  1  2]\n",
      "  [ 3  4  5]\n",
      "  [ 6  7  8]\n",
      "  [ 9 10 11]]\n",
      "\n",
      " [[12 13 14]\n",
      "  [15 16 17]\n",
      "  [18 19 20]\n",
      "  [21 22 23]]\n",
      "\n",
      " [[24 25 26]\n",
      "  [27 28 29]\n",
      "  [30 31 32]\n",
      "  [33 34 35]]]\n"
     ]
    },
    {
     "data": {
      "text/plain": [
       "array([117, 144, 171, 198])"
      ]
     },
     "execution_count": 16,
     "metadata": {},
     "output_type": "execute_result"
    }
   ],
   "source": [
    "x = np.arange(36).reshape(3, 4, 3)\n",
    "print(x)\n",
    "\n",
    "np.sum(x, axis=(0, 2))\n",
    "#axis가 있는 모든 곳은 이와 같이 동작"
   ]
  },
  {
   "cell_type": "markdown",
   "metadata": {},
   "source": [
    "## Boolean indexing(mask)\n",
    "\n",
    "* ndarray 인덱싱 시, bool리스트를 전달하여 True인 경우만 필터링\n",
    "* 브로드 캐스팅을 활용하여 ndarray로 부터 bool list얻기"
   ]
  },
  {
   "cell_type": "code",
   "execution_count": 13,
   "metadata": {},
   "outputs": [
    {
     "name": "stdout",
     "output_type": "stream",
     "text": [
      "[59 68 83 51 39 28 53 17 66 13]\n"
     ]
    }
   ],
   "source": [
    "import numpy as np\n",
    "\n",
    "x = np.random.randint(1, 100, size = 10)\n",
    "print(x)"
   ]
  },
  {
   "cell_type": "code",
   "execution_count": 14,
   "metadata": {},
   "outputs": [
    {
     "name": "stdout",
     "output_type": "stream",
     "text": [
      "[False  True False False False  True False False  True False]\n",
      "[68 28 66]\n",
      "[68 28 66]\n",
      "3\n",
      "54.0\n"
     ]
    }
   ],
   "source": [
    "y = x % 2 == 0\n",
    "print(y) #mask라고 부름 -> filter\n",
    "print(x[y])\n",
    "print(x[x % 2 == 0])\n",
    "print(np.sum(y))\n",
    "print(np.mean(x[x % 2 == 0]))"
   ]
  },
  {
   "cell_type": "code",
   "execution_count": 22,
   "metadata": {},
   "outputs": [
    {
     "name": "stdout",
     "output_type": "stream",
     "text": [
      "[46 56 36 58 35 92 37 84]\n",
      "[46 22 56 36 58 92 84]\n"
     ]
    }
   ],
   "source": [
    "print(x[x > 30])\n",
    "print(x[x % 2 == 0])"
   ]
  },
  {
   "cell_type": "code",
   "execution_count": 17,
   "metadata": {
    "scrolled": true
   },
   "outputs": [
    {
     "name": "stdout",
     "output_type": "stream",
     "text": [
      "[68 66]\n"
     ]
    }
   ],
   "source": [
    "#다중조건인 경우 and와 or사용 안됨(&, |사용)\n",
    "print(x[(x > 30) & (x % 2 == 0)])"
   ]
  },
  {
   "attachments": {
    "image.png": {
     "image/png": "[encoded data removed]"
    }
   },
   "cell_type": "markdown",
   "metadata": {},
   "source": [
    "## 브로드 캐스팅\n",
    "\n",
    "* Shape이 다른 두 ndarray에 대한 연산은 각 원소별 진행\n",
    "* 연산되는 두 ndarray가 다른 shape을 갖는 경우 브로드 캐스팅(Shape을 맞춤) 후 진행\n",
    "* 이미지 출처 : https://www.tutorialspoint.com/numpy/\n",
    "\n",
    "![image.png](attachment:image.png)"
   ]
  },
  {
   "cell_type": "code",
   "execution_count": 20,
   "metadata": {},
   "outputs": [
    {
     "name": "stdout",
     "output_type": "stream",
     "text": [
      "[[ 0  1  2  3  4]\n",
      " [ 5  6  7  8  9]\n",
      " [10 11 12 13 14]]\n",
      "[0.71446403 0.06006928 0.94355262 0.87253658 0.03101221]\n",
      "[[ 0.71446403  1.06006928  2.94355262  3.87253658  4.03101221]\n",
      " [ 5.71446403  6.06006928  7.94355262  8.87253658  9.03101221]\n",
      " [10.71446403 11.06006928 12.94355262 13.87253658 14.03101221]]\n"
     ]
    }
   ],
   "source": [
    "x = np.arange(15).reshape(3, 5)\n",
    "y = np.random.rand(15).reshape(3, 5)\n",
    "print(x)\n",
    "print(y)"
   ]
  },
  {
   "cell_type": "code",
   "execution_count": 28,
   "metadata": {},
   "outputs": [
    {
     "data": {
      "text/plain": [
       "array([[ 0.30266948,  1.82981709,  2.96360163,  3.43337244,  4.93618845],\n",
       "       [ 5.17602973,  6.94830911,  7.57711769,  8.92606165,  9.01704258],\n",
       "       [10.74184065, 11.96702126, 12.86501574, 13.12954002, 14.01225873]])"
      ]
     },
     "execution_count": 28,
     "metadata": {},
     "output_type": "execute_result"
    }
   ],
   "source": [
    "x + y"
   ]
  },
  {
   "cell_type": "code",
   "execution_count": 29,
   "metadata": {},
   "outputs": [
    {
     "data": {
      "text/plain": [
       "array([[ 2,  3,  4,  5,  6],\n",
       "       [ 7,  8,  9, 10, 11],\n",
       "       [12, 13, 14, 15, 16]])"
      ]
     },
     "execution_count": 29,
     "metadata": {},
     "output_type": "execute_result"
    }
   ],
   "source": [
    "#상수와의 연산(+, -, /, **, *)\n",
    "x + 2"
   ]
  },
  {
   "cell_type": "code",
   "execution_count": 5,
   "metadata": {},
   "outputs": [
    {
     "name": "stdout",
     "output_type": "stream",
     "text": [
      "(4, 3)\n",
      "[[ 0  1  2]\n",
      " [ 3  4  5]\n",
      " [ 6  7  8]\n",
      " [ 9 10 11]]\n",
      "(3,)\n",
      "[100 101 102]\n",
      "(4,)\n",
      "[1000 1001 1002 1003]\n",
      "[[100 102 104]\n",
      " [103 105 107]\n",
      " [106 108 110]\n",
      " [109 111 113]]\n"
     ]
    }
   ],
   "source": [
    "a = np.arange(12).reshape(4, 3)\n",
    "b = np.arange(100, 103)\n",
    "c = np.arange(1000, 1004)\n",
    "\n",
    "print(a.shape)\n",
    "print(a)\n",
    "print(b.shape)\n",
    "print(b)\n",
    "print(c.shape)\n",
    "print(c)\n",
    "\n",
    "print(a + b)\n",
    "\n",
    "# print(a + c) Error -> 뒤부터 비교하기 때문!\n",
    "#3차원과 2차원 연산필요\n",
    "#2차원과 1차원 연산필요"
   ]
  },
  {
   "cell_type": "code",
   "execution_count": 39,
   "metadata": {},
   "outputs": [],
   "source": [
    "# linalg(리니어 얼지브라) 서브모듈 활용하여 선형대수 연산"
   ]
  },
  {
   "cell_type": "markdown",
   "metadata": {},
   "source": [
    "## np.linalg.inv\n",
    "\n",
    "* 역행렬 구할 때 사용\n",
    "* 모든 차원의 값이 같아야 함"
   ]
  },
  {
   "cell_type": "code",
   "execution_count": 43,
   "metadata": {
    "scrolled": true
   },
   "outputs": [
    {
     "name": "stdout",
     "output_type": "stream",
     "text": [
      "[[0.09414109 0.00995095 0.83549506]\n",
      " [0.7153066  0.94263356 0.66880996]\n",
      " [0.55514669 0.95822121 0.47455691]]\n",
      "[[ 1.00000000e+00 -1.11022302e-16  0.00000000e+00]\n",
      " [-1.11022302e-16  1.00000000e+00 -2.22044605e-16]\n",
      " [ 0.00000000e+00  1.11022302e-16  1.00000000e+00]]\n"
     ]
    }
   ],
   "source": [
    "x = np.random.rand(3, 3)\n",
    "print(x)\n",
    "\n",
    "np.linalg.inv(x)\n",
    "\n",
    "print(x @ np.linalg.inv(x))# 행렬의 연산은 @, np.matmul"
   ]
  },
  {
   "cell_type": "markdown",
   "metadata": {},
   "source": [
    "## np.linalg.solve\n",
    "\n",
    "Ax = B 형태의 문제 해결을 제공\n",
    "예제) 호랑이와 홍합의 합 : 25호랑이 다리와 홍학 다리의 합은 64 -> 이 문제는 오리와 양 행렬문제로 바꿔서\n",
    "\n",
    "    * x + y = 25\n",
    "    *2x + 4y = 64    \n"
   ]
  },
  {
   "cell_type": "code",
   "execution_count": 22,
   "metadata": {},
   "outputs": [
    {
     "name": "stdout",
     "output_type": "stream",
     "text": [
      "[3. 4.]\n",
      "True\n"
     ]
    }
   ],
   "source": [
    "A = np.array([[1, 1], [2, 4]])\n",
    "B = np.array([7, 22])\n",
    "\n",
    "x = np.linalg.solve(A, B)\n",
    "print(x)\n",
    "\n",
    "print(np.allclose(A@x, B))#답 비교"
   ]
  }
 ],
 "metadata": {
  "kernelspec": {
   "display_name": "Python 3",
   "language": "python",
   "name": "python3"
  },
  "language_info": {
   "codemirror_mode": {
    "name": "ipython",
    "version": 3
   },
   "file_extension": ".py",
   "mimetype": "text/x-python",
   "name": "python",
   "nbconvert_exporter": "python",
   "pygments_lexer": "ipython3",
   "version": "3.8.0"
  }
 },
 "nbformat": 4,
 "nbformat_minor": 2
}
